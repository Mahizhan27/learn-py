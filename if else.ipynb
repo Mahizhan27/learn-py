{
 "cells": [
  {
   "cell_type": "code",
   "execution_count": 9,
   "id": "1979c62b-c9ff-4395-8058-beeda8b6f8bb",
   "metadata": {},
   "outputs": [
    {
     "name": "stdin",
     "output_type": "stream",
     "text": [
      "megna is live or died : live\n"
     ]
    },
    {
     "name": "stdout",
     "output_type": "stream",
     "text": [
      "surya weds megna\n"
     ]
    }
   ],
   "source": [
    "megna=input(\"megna is live or died :\")\n",
    "if(megna==\"died\"):\n",
    "   print(\"surya meets priya\")\n",
    "else:\n",
    "   print(\"surya weds megna\")"
   ]
  },
  {
   "cell_type": "code",
   "execution_count": 13,
   "id": "456a7465-f1ca-4871-a387-fc2b3e3e94ee",
   "metadata": {},
   "outputs": [
    {
     "name": "stdin",
     "output_type": "stream",
     "text": [
      "enter the mark: 89\n"
     ]
    },
    {
     "name": "stdout",
     "output_type": "stream",
     "text": [
      "student is passed\n"
     ]
    }
   ],
   "source": [
    "mark=int(input(\"enter the mark:\"))\n",
    "if(mark>35):\n",
    "    print(\"student is passed\")\n",
    "else:\n",
    "    print(\"student is failed\")"
   ]
  },
  {
   "cell_type": "code",
   "execution_count": 17,
   "id": "90a0ab53-0068-436d-895e-5c655b50e332",
   "metadata": {},
   "outputs": [
    {
     "name": "stdin",
     "output_type": "stream",
     "text": [
      "enter the income: 8000\n"
     ]
    },
    {
     "name": "stdout",
     "output_type": "stream",
     "text": [
      "schlorship is not available\n"
     ]
    }
   ],
   "source": [
    "income=int(input(\"enter the income:\"))\n",
    "if(income<7000):\n",
    "    print(\"schlorship is available\")\n",
    "else:\n",
    "     print(\"schlorship is not available\")"
   ]
  },
  {
   "cell_type": "code",
   "execution_count": 21,
   "id": "4ca76d5e-fc24-4726-953e-16ea330c50af",
   "metadata": {},
   "outputs": [
    {
     "name": "stdin",
     "output_type": "stream",
     "text": [
      "enter num: 15\n"
     ]
    },
    {
     "name": "stdout",
     "output_type": "stream",
     "text": [
      " the num is div 3 and 5\n"
     ]
    }
   ],
   "source": [
    "a=int(input(\"enter num:\"))\n",
    "if(a%3==0 and a%5==0):\n",
    "    print(\" the num is div 3 and 5\")\n",
    "else:\n",
    "     print(\" the num is not div 3 and 5\")"
   ]
  },
  {
   "cell_type": "code",
   "execution_count": null,
   "id": "77adbdd6-b747-4e3a-8193-878b6c10867b",
   "metadata": {},
   "outputs": [],
   "source": []
  }
 ],
 "metadata": {
  "kernelspec": {
   "display_name": "Python [conda env:base] *",
   "language": "python",
   "name": "conda-base-py"
  },
  "language_info": {
   "codemirror_mode": {
    "name": "ipython",
    "version": 3
   },
   "file_extension": ".py",
   "mimetype": "text/x-python",
   "name": "python",
   "nbconvert_exporter": "python",
   "pygments_lexer": "ipython3",
   "version": "3.12.7"
  }
 },
 "nbformat": 4,
 "nbformat_minor": 5
}
