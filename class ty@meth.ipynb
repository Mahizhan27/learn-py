{
 "cells": [
  {
   "cell_type": "code",
   "execution_count": 15,
   "id": "e349708b-d5af-4b22-b73a-38930c98180a",
   "metadata": {},
   "outputs": [
    {
     "name": "stdout",
     "output_type": "stream",
     "text": [
      "Brand: sams\n",
      "price: 5000\n",
      "Chargertype: d-type\n",
      "Brand: mi\n",
      "price: 9000\n",
      "Chargertype: d-type\n"
     ]
    }
   ],
   "source": [
    "class phone():\n",
    "    chargertype=\"c-type\"\n",
    "    def __init__(self,brand,price):\n",
    "        self.brand=brand\n",
    "        self.price=price\n",
    "    def display(self):\n",
    "        print(\"Brand:\",self.brand)\n",
    "        print(\"price:\",self.price)\n",
    "        print(\"Chargertype:\",self. chargertype)\n",
    "phone.chargertype=\"d-type\"\n",
    "sams=phone(\"sams\",\"5000\")\n",
    "sams.display()\n",
    "\n",
    "mi=phone(\"mi\",\"9000\")\n",
    "mi.display()"
   ]
  },
  {
   "cell_type": "code",
   "execution_count": 35,
   "id": "d8426e06-4fdf-466e-b325-91b81a31a911",
   "metadata": {},
   "outputs": [
    {
     "name": "stdout",
     "output_type": "stream",
     "text": [
      "40000\n",
      "charger type to b type\n",
      "this is phone\n"
     ]
    }
   ],
   "source": [
    "class phone():\n",
    "    chargertype=\"c-type\"\n",
    "    def __init__(self):\n",
    "        self.brand=\"\"\n",
    "        self.price=56\n",
    "    def setprice (self,price):\n",
    "        self.price=price\n",
    "    def getprice (self):\n",
    "        print(self.price)\n",
    "    @classmethod\n",
    "    def changechargertype(cls):\n",
    "        cls.chargertype=\"b-type\"\n",
    "        print(\"charger type to b type\")\n",
    "    @staticmethod\n",
    "    def info():\n",
    "        print(\"this is phone\")\n",
    "mi=phone()\n",
    "mi.setprice(40000)\n",
    "mi.getprice()    \n",
    "phone.changechargertype()\n",
    "mi.info()"
   ]
  },
  {
   "cell_type": "code",
   "execution_count": 39,
   "id": "cd7d2b59-3f0b-47f5-ad2c-15ab9a9530d7",
   "metadata": {},
   "outputs": [
    {
     "data": {
      "text/plain": [
       "<bound method dad.money of <__main__.son2 object at 0x000001EA1DAF13D0>>"
      ]
     },
     "execution_count": 39,
     "metadata": {},
     "output_type": "execute_result"
    }
   ],
   "source": [
    "class dad():\n",
    "    def money(self):\n",
    "        print(\"dads money\")\n",
    "class land():\n",
    "    def land(self):\n",
    "        print(\"imp land\")\n",
    "class son1(dad,land):\n",
    "    pass\n",
    "class son2(dad):\n",
    "    pass\n",
    "class son(dad):\n",
    "    pass\n",
    "s2=son2()\n",
    "s2.money"
   ]
  },
  {
   "cell_type": "code",
   "execution_count": 47,
   "id": "368bc30e-a10e-4fa2-9401-1632232ea400",
   "metadata": {},
   "outputs": [],
   "source": [
    "class a():\n",
    "    def __init__(self):\n",
    "            print(\"A\")\n",
    "    def display(self):\n",
    "        print(\"you  in a class\")\n",
    "class b():\n",
    "    def __init__(self):\n",
    "        super().__init__()\n",
    "    def display(self):\n",
    "        print(\"you  in b class\")\n",
    "\n",
    "ob=b()\n",
    "        "
   ]
  },
  {
   "cell_type": "code",
   "execution_count": null,
   "id": "def00fa8-c9fa-48f5-bb9c-ee77e4e00b73",
   "metadata": {},
   "outputs": [],
   "source": []
  }
 ],
 "metadata": {
  "kernelspec": {
   "display_name": "Python [conda env:base] *",
   "language": "python",
   "name": "conda-base-py"
  },
  "language_info": {
   "codemirror_mode": {
    "name": "ipython",
    "version": 3
   },
   "file_extension": ".py",
   "mimetype": "text/x-python",
   "name": "python",
   "nbconvert_exporter": "python",
   "pygments_lexer": "ipython3",
   "version": "3.12.7"
  }
 },
 "nbformat": 4,
 "nbformat_minor": 5
}
