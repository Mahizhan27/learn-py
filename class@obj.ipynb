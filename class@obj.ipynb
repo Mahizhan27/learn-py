{
 "cells": [
  {
   "cell_type": "code",
   "execution_count": 25,
   "id": "01f071aa-3783-45b5-905c-57a297a3e347",
   "metadata": {},
   "outputs": [
    {
     "name": "stdout",
     "output_type": "stream",
     "text": [
      "Ramesh\n",
      "drimk: yes\n",
      "Suresh\n",
      "drimk: no\n"
     ]
    }
   ],
   "source": [
    "class goa():\n",
    "    name=\"\"\n",
    "    drimk=\"\"\n",
    "    def party():\n",
    "        print(\"lets party\")\n",
    "    def beach():\n",
    "        print(\"enjoy\")\n",
    "ramesh=goa()\n",
    "suresh=goa()\n",
    "ramesh.name=\"Ramesh\"\n",
    "suresh.name=\"Suresh\"\n",
    "ramesh.drimk=\"yes\"\n",
    "suresh.drimk=\"no\"\n",
    "print(ramesh.name)\n",
    "print(\"drimk:\",ramesh.drimk)\n",
    "print(suresh.name)\n",
    "print(\"drimk:\",suresh.drimk)"
   ]
  },
  {
   "cell_type": "code",
   "execution_count": 27,
   "id": "122f4357-e981-498f-a0ac-df6ae630ab10",
   "metadata": {},
   "outputs": [
    {
     "ename": "NameError",
     "evalue": "name 'hp' is not defined",
     "output_type": "error",
     "traceback": [
      "\u001b[1;31m---------------------------------------------------------------------------\u001b[0m",
      "\u001b[1;31mNameError\u001b[0m                                 Traceback (most recent call last)",
      "Cell \u001b[1;32mIn[27], line 5\u001b[0m\n\u001b[0;32m      3\u001b[0m     ram\u001b[38;5;241m=\u001b[39m\u001b[38;5;124m\"\u001b[39m\u001b[38;5;124m\"\u001b[39m\n\u001b[0;32m      4\u001b[0m     proc\u001b[38;5;241m=\u001b[39m\u001b[38;5;124m\"\u001b[39m\u001b[38;5;124m\"\u001b[39m\n\u001b[1;32m----> 5\u001b[0m hp\u001b[38;5;241m.\u001b[39mlaptop()\n\u001b[0;32m      6\u001b[0m dell\u001b[38;5;241m.\u001b[39mlaptop()\n\u001b[0;32m      7\u001b[0m hp\u001b[38;5;241m.\u001b[39mprice\u001b[38;5;241m=\u001b[39m\u001b[38;5;241m50000\u001b[39m\n",
      "\u001b[1;31mNameError\u001b[0m: name 'hp' is not defined"
     ]
    }
   ],
   "source": [
    "class laptop():\n",
    "    price=\"\"\n",
    "    ram=\"\"\n",
    "    proc=\"\"\n",
    "hp=laptop()\n",
    "dell=laptop()\n",
    "\n",
    "hp.price=50000\n",
    "hp.ram=\"8gb\"\n",
    "hp.proc=\"i7\"\n",
    "\n",
    "dell.price=70000\n",
    "dell.ram=\"9gb\"\n",
    "dell.proc=\"i9\"\n",
    "\n",
    "print(hp.ram)"
   ]
  },
  {
   "cell_type": "code",
   "execution_count": null,
   "id": "fa3f464f-e2e4-46d2-b21e-d72dfc89bcf2",
   "metadata": {},
   "outputs": [],
   "source": []
  }
 ],
 "metadata": {
  "kernelspec": {
   "display_name": "Python [conda env:base] *",
   "language": "python",
   "name": "conda-base-py"
  },
  "language_info": {
   "codemirror_mode": {
    "name": "ipython",
    "version": 3
   },
   "file_extension": ".py",
   "mimetype": "text/x-python",
   "name": "python",
   "nbconvert_exporter": "python",
   "pygments_lexer": "ipython3",
   "version": "3.12.7"
  }
 },
 "nbformat": 4,
 "nbformat_minor": 5
}
