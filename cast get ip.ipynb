{
 "cells": [
  {
   "cell_type": "code",
   "execution_count": null,
   "id": "f20a2480-5759-4ebd-afd2-fd9d69404cf4",
   "metadata": {},
   "outputs": [],
   "source": []
  },
  {
   "cell_type": "code",
   "execution_count": 1,
   "id": "78ae1959-30e1-4bee-8e4c-45bcef5333fe",
   "metadata": {},
   "outputs": [
    {
     "name": "stdin",
     "output_type": "stream",
     "text": [
      " 10\n",
      " 10\n"
     ]
    },
    {
     "name": "stdout",
     "output_type": "stream",
     "text": [
      "1010\n"
     ]
    }
   ],
   "source": [
    "a=input()\n",
    "b=input()\n",
    "c=a+b\n",
    "print (c)"
   ]
  },
  {
   "cell_type": "code",
   "execution_count": 5,
   "id": "8e643e73-ed84-48a2-b63d-faf87f073c39",
   "metadata": {},
   "outputs": [
    {
     "name": "stdin",
     "output_type": "stream",
     "text": [
      " mahi\n",
      " 19\n"
     ]
    },
    {
     "name": "stdout",
     "output_type": "stream",
     "text": [
      "my name is: mahi\n",
      "my age: 19\n"
     ]
    }
   ],
   "source": [
    "a=input()\n",
    "b=input()\n",
    "print(\"my name is:\",a)\n",
    "print(\"my age:\",b)"
   ]
  },
  {
   "cell_type": "code",
   "execution_count": 7,
   "id": "fca1e559-eff1-4f8e-865f-4cf6ffd44ab1",
   "metadata": {},
   "outputs": [
    {
     "name": "stdin",
     "output_type": "stream",
     "text": [
      " mahi\n",
      " 19\n",
      " sakkotai\n"
     ]
    },
    {
     "name": "stdout",
     "output_type": "stream",
     "text": [
      "my name is: mahi\n",
      "my age: 19\n",
      "address: sakkotai\n"
     ]
    }
   ],
   "source": [
    "a=input()\n",
    "b=input()\n",
    "c=input()\n",
    "print(\"my name is:\",a)\n",
    "print(\"my age:\",b)\n",
    "print(\"address:\",c)"
   ]
  },
  {
   "cell_type": "code",
   "execution_count": 9,
   "id": "f06ad9c0-fb42-4ad4-b5bd-b4dde1d6db03",
   "metadata": {},
   "outputs": [
    {
     "name": "stdin",
     "output_type": "stream",
     "text": [
      " 5\n",
      " 6\n",
      " 7\n"
     ]
    },
    {
     "name": "stdout",
     "output_type": "stream",
     "text": [
      "11.666666666666666\n"
     ]
    }
   ],
   "source": [
    "a=int(input())\n",
    "b=int(input())\n",
    "c=int(input())\n",
    "d=a*b*c\n",
    "e=a+b+c\n",
    "f=d/e\n",
    "print(f)"
   ]
  },
  {
   "cell_type": "code",
   "execution_count": 17,
   "id": "e87a2039-6cb6-4162-83d6-da7821bdbb69",
   "metadata": {},
   "outputs": [
    {
     "name": "stdin",
     "output_type": "stream",
     "text": [
      " mahi\n",
      " 80\n",
      " cs\n"
     ]
    },
    {
     "name": "stdout",
     "output_type": "stream",
     "text": [
      "my name is: mahi\n",
      "my score is: 8.0 /10\n",
      "my department is: cs\n"
     ]
    }
   ],
   "source": [
    "a=input()\n",
    "b=int(input())\n",
    "c=input()\n",
    "print(\"my name is:\",a)\n",
    "print(\"my score is:\",b/10,\"/10\")\n",
    "print(\"my department is:\",c)"
   ]
  },
  {
   "cell_type": "code",
   "execution_count": null,
   "id": "6cff3f83-9b1f-4571-889d-c738b030e22d",
   "metadata": {},
   "outputs": [],
   "source": []
  }
 ],
 "metadata": {
  "kernelspec": {
   "display_name": "Python [conda env:base] *",
   "language": "python",
   "name": "conda-base-py"
  },
  "language_info": {
   "codemirror_mode": {
    "name": "ipython",
    "version": 3
   },
   "file_extension": ".py",
   "mimetype": "text/x-python",
   "name": "python",
   "nbconvert_exporter": "python",
   "pygments_lexer": "ipython3",
   "version": "3.12.7"
  }
 },
 "nbformat": 4,
 "nbformat_minor": 5
}
