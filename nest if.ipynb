{
 "cells": [
  {
   "cell_type": "code",
   "execution_count": 30,
   "id": "dcc2fa05-1baf-4619-88bb-393659440b81",
   "metadata": {},
   "outputs": [
    {
     "name": "stdin",
     "output_type": "stream",
     "text": [
      "enter salary: 20000\n",
      "enter age: 15\n",
      "enter loan amount: 600000\n"
     ]
    },
    {
     "name": "stdout",
     "output_type": "stream",
     "text": [
      "loan max is 50k\n"
     ]
    }
   ],
   "source": [
    "a=int(input(\"enter salary:\"))\n",
    "b=int(input(\"enter age:\"))\n",
    "if(a>=20000 or b<=25):\n",
    "    c=int(input(\"enter loan amount:\"))\n",
    "    if(c>=50000):\n",
    "        print(\"loan max is 50k\")\n",
    "    else:\n",
    "        print(\"elible\")\n",
    "else:\n",
    "    print(\"not elible\")"
   ]
  },
  {
   "cell_type": "code",
   "execution_count": 35,
   "id": "50b7fc89-c10c-4e2d-a6f3-3561cde8452f",
   "metadata": {},
   "outputs": [
    {
     "name": "stdin",
     "output_type": "stream",
     "text": [
      "enter sub 1: 50\n",
      "enter sub 2: 50\n",
      "enter sub 3: 70\n",
      "enter sub 4: 80\n",
      "enter sub 5: 89\n"
     ]
    },
    {
     "name": "stdout",
     "output_type": "stream",
     "text": [
      "no need\n"
     ]
    }
   ],
   "source": [
    "a=int(input(\"enter sub 1:\"))\n",
    "b=int(input(\"enter sub 2:\"))\n",
    "c=int(input(\"enter sub 3:\"))\n",
    "d=int(input(\"enter sub 4:\"))\n",
    "e=int(input(\"enter sub 5:\"))\n",
    "f=(a+b+c+d+e)/5\n",
    "if(f<35):\n",
    "        print(\"need couching\")\n",
    "else:\n",
    "    print(\"no need\")\n"
   ]
  },
  {
   "cell_type": "code",
   "execution_count": null,
   "id": "f9b66be5-7c0f-4bbe-a34a-33c78aa9c98d",
   "metadata": {},
   "outputs": [],
   "source": []
  }
 ],
 "metadata": {
  "kernelspec": {
   "display_name": "Python [conda env:base] *",
   "language": "python",
   "name": "conda-base-py"
  },
  "language_info": {
   "codemirror_mode": {
    "name": "ipython",
    "version": 3
   },
   "file_extension": ".py",
   "mimetype": "text/x-python",
   "name": "python",
   "nbconvert_exporter": "python",
   "pygments_lexer": "ipython3",
   "version": "3.12.7"
  }
 },
 "nbformat": 4,
 "nbformat_minor": 5
}
