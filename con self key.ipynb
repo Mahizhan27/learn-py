{
 "cells": [
  {
   "cell_type": "code",
   "execution_count": 5,
   "id": "a015491d-69ff-474c-bc46-664362e73bec",
   "metadata": {},
   "outputs": [
    {
     "name": "stdout",
     "output_type": "stream",
     "text": [
      "Ram 8gb\n",
      "Proc hp-i8\n",
      "Ram 16gb\n",
      "Proc dell-i9\n"
     ]
    }
   ],
   "source": [
    "class laptop():\n",
    "    def __init__(self):\n",
    "        self.ram=\"\"\n",
    "        self.proc=\"\"\n",
    "    def display(self):\n",
    "        print(\"Ram\", self.ram)\n",
    "        print(\"Proc\", self.proc)\n",
    "hp=laptop()\n",
    "dell=laptop()\n",
    "\n",
    "hp.ram=\"8gb\"\n",
    "hp.proc=\"hp-i8\"\n",
    "\n",
    "dell.ram=\"16gb\"\n",
    "dell.proc=\"dell-i9\"\n",
    "\n",
    "hp.display()\n",
    "dell.display()\n",
    "\n"
   ]
  },
  {
   "cell_type": "code",
   "execution_count": 13,
   "id": "e8af233f-bda4-40e7-a70a-6f11e68eaf44",
   "metadata": {},
   "outputs": [
    {
     "name": "stdout",
     "output_type": "stream",
     "text": [
      "manju\n",
      "2233\n",
      "Name manju\n",
      "Reg no: 2233\n"
     ]
    }
   ],
   "source": [
    "class student():\n",
    "    def __init__(self):\n",
    "        self.name=\"manju\"\n",
    "        self.regno=\"2233\"\n",
    "    def display(self):\n",
    "        print(\"Name\",self.name)\n",
    "        print(\"Reg no:\",self.regno)\n",
    "s1= student()\n",
    "print(s1.name)\n",
    "print(s1.regno)\n",
    "s1.display()\n",
    "        "
   ]
  },
  {
   "cell_type": "code",
   "execution_count": 17,
   "id": "eaa1f0ae-b899-43a7-b7cd-2e192a138e1a",
   "metadata": {},
   "outputs": [
    {
     "name": "stdout",
     "output_type": "stream",
     "text": [
      "Name mahi\n",
      "Reg no: 3344\n",
      "Name rashi\n",
      "Reg no: 9999\n"
     ]
    }
   ],
   "source": [
    "class student():\n",
    "    def __init__(self):\n",
    "        self.name=\"manju\"\n",
    "        self.regno=\"2233\"\n",
    "    def display(self):\n",
    "        print(\"Name\",self.name)\n",
    "        print(\"Reg no:\",self.regno)\n",
    "s1= student()\n",
    "s2= student()\n",
    "s1.name=\"mahi\"\n",
    "s1.regno=\"3344\"\n",
    "s2.name=\"rashi\"\n",
    "s2.regno=\"9999\"\n",
    "s1.display()\n",
    "s2.display()"
   ]
  },
  {
   "cell_type": "code",
   "execution_count": 21,
   "id": "cbe42685-9aa2-4d52-9ddf-0065ab1a7903",
   "metadata": {},
   "outputs": [
    {
     "name": "stdout",
     "output_type": "stream",
     "text": [
      "red\n"
     ]
    }
   ],
   "source": [
    "class fruit():\n",
    "    def __init__(self,col):\n",
    "        self.colour=col\n",
    "apple=fruit(\"red\")\n",
    "print(apple.colour)"
   ]
  },
  {
   "cell_type": "code",
   "execution_count": 23,
   "id": "c1902c26-f576-44f9-909f-f6c8f1796254",
   "metadata": {},
   "outputs": [
    {
     "name": "stdout",
     "output_type": "stream",
     "text": [
      "Name manju\n",
      "Reg no: 5\n",
      "Name muruga\n",
      "Reg no: 8\n"
     ]
    }
   ],
   "source": [
    "class teacher():\n",
    "     def __init__(self,name,reg):\n",
    "         self.name=name\n",
    "         self.reg=reg\n",
    "     def display(self):\n",
    "        print(\"Name\",self.name)\n",
    "        print(\"Reg no:\",self.reg)\n",
    "t1=teacher(\"manju\",\"5\")\n",
    "t2=teacher(\"muruga\",\"8\")\n",
    "t1.display()\n",
    "t2.display()\n",
    "\n",
    "         \n",
    "    "
   ]
  },
  {
   "cell_type": "code",
   "execution_count": 31,
   "id": "288beb3d-d3d9-4c38-ac69-3460b9fb3aa8",
   "metadata": {},
   "outputs": [
    {
     "name": "stdout",
     "output_type": "stream",
     "text": [
      "Add: 12\n",
      "sub: 6\n",
      "mul: 10\n",
      "div: 5.0\n"
     ]
    }
   ],
   "source": [
    "class calculator():\n",
    "    def add(self,a,b):\n",
    "        print(\"Add:\",a+b)\n",
    "    def sub(self,a,b):\n",
    "        print(\"sub:\",a-b)\n",
    "    def mul(self,a,b):\n",
    "        print(\"mul:\",a*b)\n",
    "    def div(self,a,b):\n",
    "        print(\"div:\",a/b)\n",
    "obj= calculator()\n",
    "obj.add(10,2)\n",
    "obj.sub(8,2)\n",
    "obj.mul(5,2)\n",
    "obj.div(10,2)\n",
    "        "
   ]
  },
  {
   "cell_type": "code",
   "execution_count": null,
   "id": "ad74d390-7294-4e59-9640-efa6a516660a",
   "metadata": {},
   "outputs": [],
   "source": []
  }
 ],
 "metadata": {
  "kernelspec": {
   "display_name": "Python [conda env:base] *",
   "language": "python",
   "name": "conda-base-py"
  },
  "language_info": {
   "codemirror_mode": {
    "name": "ipython",
    "version": 3
   },
   "file_extension": ".py",
   "mimetype": "text/x-python",
   "name": "python",
   "nbconvert_exporter": "python",
   "pygments_lexer": "ipython3",
   "version": "3.12.7"
  }
 },
 "nbformat": 4,
 "nbformat_minor": 5
}
