{
 "cells": [
  {
   "cell_type": "code",
   "execution_count": 3,
   "id": "cf2faba0-7135-427a-9a75-9f09de0c55ab",
   "metadata": {},
   "outputs": [
    {
     "name": "stdin",
     "output_type": "stream",
     "text": [
      "enter mark: 70\n"
     ]
    },
    {
     "name": "stdout",
     "output_type": "stream",
     "text": [
      "poor student\n"
     ]
    }
   ],
   "source": [
    "a=int(input(\"enter mark:\"))\n",
    "if(a<35):\n",
    "      print(\"poor student\")\n",
    "elif(a>35 and a<75):\n",
    "    print(\"poor student\")\n",
    "else:\n",
    "    print(\"good student\")"
   ]
  },
  {
   "cell_type": "markdown",
   "id": "bacf25d2-c377-428d-8a9e-a146ab5cc9b1",
   "metadata": {},
   "source": [
    "calculator"
   ]
  },
  {
   "cell_type": "code",
   "execution_count": 8,
   "id": "473d4f59-c641-4ea4-83c8-05da9553a12d",
   "metadata": {},
   "outputs": [
    {
     "name": "stdin",
     "output_type": "stream",
     "text": [
      "enter num: 3\n",
      "enter num: 3\n",
      "add/sub/mul/div/ mul\n"
     ]
    },
    {
     "name": "stdout",
     "output_type": "stream",
     "text": [
      "9\n"
     ]
    }
   ],
   "source": [
    "a=int(input(\"enter num:\"))\n",
    "b=int(input(\"enter num:\"))\n",
    "ope=input(\"add/sub/mul/div/\")\n",
    "if(ope==\"add\"):\n",
    "    print(a+b)\n",
    "elif(ope==\"sub\"):\n",
    "    print(a-b)\n",
    "elif(ope==\"mul\"):\n",
    "    print(a*b)\n",
    "elif(ope==\"sub\"):\n",
    "    print(a/b)\n",
    "else:\n",
    "    print(\"error\")\n",
    "\n",
    "\n",
    "   "
   ]
  },
  {
   "cell_type": "code",
   "execution_count": 10,
   "id": "fc278f7e-f301-49de-85df-68854102957c",
   "metadata": {},
   "outputs": [
    {
     "ename": "IndentationError",
     "evalue": "unexpected indent (386144924.py, line 6)",
     "output_type": "error",
     "traceback": [
      "\u001b[1;36m  Cell \u001b[1;32mIn[10], line 6\u001b[1;36m\u001b[0m\n\u001b[1;33m    print(\"eligible\")\u001b[0m\n\u001b[1;37m    ^\u001b[0m\n\u001b[1;31mIndentationError\u001b[0m\u001b[1;31m:\u001b[0m unexpected indent\n"
     ]
    }
   ],
   "source": [
    "a=int(input(\"enter percent:\"))\n",
    "if(a>70):\n",
    "    name=input(\"enter name:\")\n",
    "    age=input(\"enter age:\")\n",
    "    add=input(\"enter add:\")\n",
    "      print(\"eligible\")\n",
    "else:\n",
    "    print(\"not eligible\")\n"
   ]
  },
  {
   "cell_type": "code",
   "execution_count": null,
   "id": "bea8f0ea-9572-44a1-bb54-f7afbf37b0be",
   "metadata": {},
   "outputs": [],
   "source": []
  }
 ],
 "metadata": {
  "kernelspec": {
   "display_name": "Python [conda env:base] *",
   "language": "python",
   "name": "conda-base-py"
  },
  "language_info": {
   "codemirror_mode": {
    "name": "ipython",
    "version": 3
   },
   "file_extension": ".py",
   "mimetype": "text/x-python",
   "name": "python",
   "nbconvert_exporter": "python",
   "pygments_lexer": "ipython3",
   "version": "3.12.7"
  }
 },
 "nbformat": 4,
 "nbformat_minor": 5
}
