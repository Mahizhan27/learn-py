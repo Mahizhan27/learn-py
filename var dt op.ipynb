{
 "cells": [
  {
   "cell_type": "code",
   "execution_count": null,
   "id": "832e6ec3-2d2f-4b79-a7b9-88462353dcdb",
   "metadata": {},
   "outputs": [],
   "source": [
    "print(\"mahi\")"
   ]
  },
  {
   "cell_type": "raw",
   "id": "25542fc8-43f8-4562-82a8-6154c2fbee19",
   "metadata": {},
   "source": [
    "print"
   ]
  },
  {
   "cell_type": "code",
   "execution_count": 10,
   "id": "a444aedb-a6a0-4a46-b9fe-3d0b8e9545b3",
   "metadata": {},
   "outputs": [
    {
     "name": "stdout",
     "output_type": "stream",
     "text": [
      "hellow world\n"
     ]
    }
   ],
   "source": [
    "print(\"hellow world\")"
   ]
  },
  {
   "cell_type": "markdown",
   "id": "dae7fffb-28be-4e88-86ac-cd0b248ab43f",
   "metadata": {},
   "source": [
    "variables"
   ]
  },
  {
   "cell_type": "code",
   "execution_count": 12,
   "id": "234d8213-f7a6-4cb2-8a14-995a6581cb99",
   "metadata": {},
   "outputs": [
    {
     "name": "stdout",
     "output_type": "stream",
     "text": [
      "20\n"
     ]
    }
   ],
   "source": [
    "a=10\n",
    "b=10\n",
    "print(a+b)"
   ]
  },
  {
   "cell_type": "markdown",
   "id": "198a85e4-b45b-4e56-8695-93a17f777a1d",
   "metadata": {},
   "source": [
    "datatypes"
   ]
  },
  {
   "cell_type": "code",
   "execution_count": 14,
   "id": "56c309ac-7173-4946-8ff2-54cc81a05a29",
   "metadata": {},
   "outputs": [
    {
     "name": "stdout",
     "output_type": "stream",
     "text": [
      "<class 'int'>\n"
     ]
    }
   ],
   "source": [
    "a=10\n",
    "print(type(a))"
   ]
  },
  {
   "cell_type": "code",
   "execution_count": 22,
   "id": "4f139411-d586-4b1b-81a2-3d7cc4ce651d",
   "metadata": {},
   "outputs": [
    {
     "name": "stdout",
     "output_type": "stream",
     "text": [
      "<class 'str'>\n"
     ]
    }
   ],
   "source": [
    "a=\"mahi\"\n",
    "print(type(a))"
   ]
  },
  {
   "cell_type": "markdown",
   "id": "8a36e1e9-a917-437d-a633-2413ab91b95c",
   "metadata": {},
   "source": [
    "operator"
   ]
  },
  {
   "cell_type": "code",
   "execution_count": 27,
   "id": "37a24ffb-eaf3-4707-a650-e7db36800dc7",
   "metadata": {},
   "outputs": [
    {
     "name": "stdout",
     "output_type": "stream",
     "text": [
      "30\n"
     ]
    }
   ],
   "source": [
    "a=10\n",
    "b=20\n",
    "c=a+b\n",
    "print(c)"
   ]
  },
  {
   "cell_type": "markdown",
   "id": "b3a05b31-727b-40ee-8979-0f5288a0f22b",
   "metadata": {},
   "source": [
    "casting"
   ]
  },
  {
   "cell_type": "code",
   "execution_count": 31,
   "id": "07d64fc2-c7d6-4839-8add-b1f4fd0fd7d4",
   "metadata": {},
   "outputs": [
    {
     "name": "stdout",
     "output_type": "stream",
     "text": [
      "20\n"
     ]
    }
   ],
   "source": [
    "a=int(\"10\")\n",
    "b=int(\"10\")\n",
    "c=a+b\n",
    "print (c)"
   ]
  },
  {
   "cell_type": "markdown",
   "id": "c2f9a3b1-f258-43ba-94c3-8ff7d3d470de",
   "metadata": {},
   "source": [
    "get input from user"
   ]
  },
  {
   "cell_type": "code",
   "execution_count": null,
   "id": "b49f2a5c-a9bc-4d8c-85d8-2a265f3c7264",
   "metadata": {},
   "outputs": [],
   "source": [
    "a=int(input())\n",
    "b=int(input())\n",
    "c=a+b\n",
    "print (c)"
   ]
  },
  {
   "cell_type": "code",
   "execution_count": null,
   "id": "eed3b195-a1b8-42dc-99e2-561fbdf4ee6c",
   "metadata": {},
   "outputs": [],
   "source": []
  },
  {
   "cell_type": "code",
   "execution_count": null,
   "id": "982e6e01-320e-47ba-9dbf-30731dcd07ac",
   "metadata": {},
   "outputs": [],
   "source": []
  }
 ],
 "metadata": {
  "kernelspec": {
   "display_name": "Python [conda env:base] *",
   "language": "python",
   "name": "conda-base-py"
  },
  "language_info": {
   "codemirror_mode": {
    "name": "ipython",
    "version": 3
   },
   "file_extension": ".py",
   "mimetype": "text/x-python",
   "name": "python",
   "nbconvert_exporter": "python",
   "pygments_lexer": "ipython3",
   "version": "3.12.7"
  }
 },
 "nbformat": 4,
 "nbformat_minor": 5
}
