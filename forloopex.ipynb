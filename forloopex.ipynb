{
 "cells": [
  {
   "cell_type": "code",
   "execution_count": 7,
   "id": "6709b0b5-3098-4415-962e-63cacca59f59",
   "metadata": {},
   "outputs": [
    {
     "name": "stdout",
     "output_type": "stream",
     "text": [
      "m\n",
      "a\n",
      "h\n",
      "i\n",
      "z\n",
      "h\n",
      "a\n",
      "n\n"
     ]
    }
   ],
   "source": [
    "for i in \"mahizhan\":\n",
    "    print(i)"
   ]
  },
  {
   "cell_type": "code",
   "execution_count": 9,
   "id": "a49f0aea-c1ca-4016-b5eb-4f3e6a2a8f74",
   "metadata": {},
   "outputs": [
    {
     "name": "stdout",
     "output_type": "stream",
     "text": [
      "0\n",
      "1\n",
      "2\n",
      "3\n",
      "4\n"
     ]
    }
   ],
   "source": [
    "for i in range (5):\n",
    "    print(i)"
   ]
  },
  {
   "cell_type": "code",
   "execution_count": 15,
   "id": "f4ede9bb-81c0-453d-91e8-5b383ca07d3b",
   "metadata": {},
   "outputs": [
    {
     "name": "stdout",
     "output_type": "stream",
     "text": [
      "1 x2 2\n",
      "2 x2 4\n",
      "3 x2 6\n",
      "4 x2 8\n",
      "5 x2 10\n",
      "6 x2 12\n",
      "7 x2 14\n",
      "8 x2 16\n",
      "9 x2 18\n",
      "10 x2 20\n"
     ]
    }
   ],
   "source": [
    "for i in range (1,11):\n",
    "    print(i,\"x2\",i*2)"
   ]
  },
  {
   "cell_type": "code",
   "execution_count": null,
   "id": "abf21840-a3f2-4dc2-8287-a875220a1745",
   "metadata": {},
   "outputs": [],
   "source": [
    " "
   ]
  }
 ],
 "metadata": {
  "kernelspec": {
   "display_name": "Python [conda env:base] *",
   "language": "python",
   "name": "conda-base-py"
  },
  "language_info": {
   "codemirror_mode": {
    "name": "ipython",
    "version": 3
   },
   "file_extension": ".py",
   "mimetype": "text/x-python",
   "name": "python",
   "nbconvert_exporter": "python",
   "pygments_lexer": "ipython3",
   "version": "3.12.7"
  }
 },
 "nbformat": 4,
 "nbformat_minor": 5
}
