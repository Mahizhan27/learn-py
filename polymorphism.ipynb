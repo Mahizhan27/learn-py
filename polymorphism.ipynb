{
 "cells": [
  {
   "cell_type": "code",
   "execution_count": 3,
   "id": "c48f0ed8-acc2-4f3d-9abc-f96513d02b88",
   "metadata": {},
   "outputs": [
    {
     "name": "stdout",
     "output_type": "stream",
     "text": [
      "200\n"
     ]
    }
   ],
   "source": [
    "class shape():\n",
    "    def area(self):\n",
    "        return 0\n",
    "class rect(shape):\n",
    "    def area(self):\n",
    "        l=10\n",
    "        b=20\n",
    "        print(l*b)\n",
    "r1=rect()\n",
    "r1.area()"
   ]
  },
  {
   "cell_type": "code",
   "execution_count": 35,
   "id": "81584a2c-0998-420c-b993-e36709dece8e",
   "metadata": {},
   "outputs": [
    {
     "ename": "SyntaxError",
     "evalue": "invalid syntax (3607740134.py, line 11)",
     "output_type": "error",
     "traceback": [
      "\u001b[1;36m  Cell \u001b[1;32mIn[35], line 11\u001b[1;36m\u001b[0m\n\u001b[1;33m    m1=mang(\"mahi\",\"5k\",\"cse\"):\u001b[0m\n\u001b[1;37m                              ^\u001b[0m\n\u001b[1;31mSyntaxError\u001b[0m\u001b[1;31m:\u001b[0m invalid syntax\n"
     ]
    }
   ],
   "source": [
    "class emp():\n",
    "    def __init__(self,name,saleray):\n",
    "        self.name=name\n",
    "        self.saleray=saleray\n",
    "class mang(emp):\n",
    "    def __init__(selfname,saleray,dept):\n",
    "        super().__init__(name,saleray)\n",
    "        self.dept=dept\n",
    "    def display(self):\n",
    "        print(self.name,self.saleray,self.dept)\n",
    "m1=mang(\"mahi\",\"5k\",\"cse\"):\n",
    "m1.display()"
   ]
  },
  {
   "cell_type": "code",
   "execution_count": null,
   "id": "33e80f25-ef9b-4e6a-a0c6-e352aef728b9",
   "metadata": {},
   "outputs": [],
   "source": []
  }
 ],
 "metadata": {
  "kernelspec": {
   "display_name": "Python [conda env:base] *",
   "language": "python",
   "name": "conda-base-py"
  },
  "language_info": {
   "codemirror_mode": {
    "name": "ipython",
    "version": 3
   },
   "file_extension": ".py",
   "mimetype": "text/x-python",
   "name": "python",
   "nbconvert_exporter": "python",
   "pygments_lexer": "ipython3",
   "version": "3.12.7"
  }
 },
 "nbformat": 4,
 "nbformat_minor": 5
}
